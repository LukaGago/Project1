{
 "cells": [
  {
   "cell_type": "markdown",
   "id": "e2e60401-cc67-452e-a80c-47843fff353a",
   "metadata": {},
   "source": [
    "# Data Science Tools and Ecosystem\n"
   ]
  },
  {
   "cell_type": "markdown",
   "id": "15f1c546-df6c-4c18-83a8-dc3b279db769",
   "metadata": {},
   "source": [
    "## In this notebook, Data Science Tools and Ecosystem are summarized."
   ]
  },
  {
   "cell_type": "markdown",
   "id": "2afe0fc5-eb89-46ca-bef5-ebc23ddfdf29",
   "metadata": {},
   "source": [
    "__Objectives:__\n",
    "\n",
    "* List commonly used libraries for data scientists\n",
    "* Do some arithmetic calculations in Jupyter\n",
    "* list popular programming languages for data scientists"
   ]
  },
  {
   "cell_type": "markdown",
   "id": "914635ae-930f-45be-9f96-f4e1d7086ed5",
   "metadata": {
    "jp-MarkdownHeadingCollapsed": true
   },
   "source": [
    "### Some of the popular languages that Data Scientists use are:\n",
    "\n",
    "1. Python\n",
    "2. R\n",
    "3. C++"
   ]
  },
  {
   "cell_type": "markdown",
   "id": "ed7ff661-7b77-4c16-a518-9797851b4709",
   "metadata": {},
   "source": [
    "### Some of the commonly used libraries used by Data Scientists include:\n",
    "\n",
    "1. Pandas\n",
    "2. NumPy\n",
    "3. Matplotlib"
   ]
  },
  {
   "cell_type": "markdown",
   "id": "7398ff79-0c4a-421e-a001-b4f862e387d4",
   "metadata": {},
   "source": [
    "| Data Science Tools|\n",
    "|-|\n",
    "| Jupyter Notebook|\n",
    "| R studio|\n",
    "| Visual Studio|"
   ]
  },
  {
   "cell_type": "markdown",
   "id": "142d1daf-b432-4ae0-9c15-0f8132683860",
   "metadata": {},
   "source": [
    "### Below are a few examples of evaluating arithmetic expressions in Python"
   ]
  },
  {
   "cell_type": "code",
   "execution_count": 2,
   "id": "f6b2448c-c458-45ec-b1ef-426d56a9275d",
   "metadata": {},
   "outputs": [
    {
     "data": {
      "text/plain": [
       "17"
      ]
     },
     "execution_count": 2,
     "metadata": {},
     "output_type": "execute_result"
    }
   ],
   "source": [
    "# This a simple arithmetic expression to mutiply then add integers\n",
    "(3*4)+5"
   ]
  },
  {
   "cell_type": "code",
   "execution_count": 3,
   "id": "52b13dde-89b9-403e-9f93-f1077894e8db",
   "metadata": {},
   "outputs": [
    {
     "data": {
      "text/plain": [
       "3.3333333333333335"
      ]
     },
     "execution_count": 3,
     "metadata": {},
     "output_type": "execute_result"
    }
   ],
   "source": [
    "# This will convert 200 minutes to hours by diving by 60\n",
    "200/60"
   ]
  },
  {
   "cell_type": "markdown",
   "id": "1328e1cc-1789-4b5e-9ebd-839fd1638313",
   "metadata": {},
   "source": [
    "## Author\n",
    "Luka Gagoshashvili"
   ]
  },
  {
   "cell_type": "code",
   "execution_count": null,
   "id": "1ec7d6a7-c7a3-4f54-90b8-bff94a506383",
   "metadata": {},
   "outputs": [],
   "source": []
  }
 ],
 "metadata": {
  "kernelspec": {
   "display_name": "Python 3 (ipykernel)",
   "language": "python",
   "name": "python3"
  },
  "language_info": {
   "codemirror_mode": {
    "name": "ipython",
    "version": 3
   },
   "file_extension": ".py",
   "mimetype": "text/x-python",
   "name": "python",
   "nbconvert_exporter": "python",
   "pygments_lexer": "ipython3",
   "version": "3.11.9"
  }
 },
 "nbformat": 4,
 "nbformat_minor": 5
}
